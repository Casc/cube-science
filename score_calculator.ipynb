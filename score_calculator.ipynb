{
 "cells": [
  {
   "cell_type": "code",
   "execution_count": 52,
   "metadata": {},
   "outputs": [
    {
     "name": "stdout",
     "output_type": "stream",
     "text": [
      "2\n",
      "2\n",
      "2\n",
      "{'points': 9, 'won': 6, 'lost': 3}\n",
      "{'points': 6, 'won': 5, 'lost': 4}\n",
      "{'points': 0, 'won': 3, 'lost': 6}\n",
      "{'points': 3, 'won': 4, 'lost': 5}\n",
      "('CAS', 967.0)\n",
      "('BAR', 656.0)\n",
      "('MAT', 344.0)\n",
      "('KUB', 33.0)\n"
     ]
    }
   ],
   "source": [
    "import operator\n",
    "\n",
    "# input: a set of data with match results\n",
    "# output: a table with final standings\n",
    "\n",
    "def extract_players(my_matches):\n",
    "    players = []\n",
    "    for i in my_matches:\n",
    "        players.append(i[0][\"player\"])\n",
    "        players.append(i[1][\"player\"])\n",
    "    return list(set(players))\n",
    "\n",
    "def normalized_score(player_score):\n",
    "    deals = player_score[\"won\"] + player_score[\"lost\"]\n",
    "    win_rate =(player_score[\"won\"]+0.0)/deals\n",
    "    return player_score[\"points\"]*100 + round(win_rate *100, 0)\n",
    "\n",
    "def get_sorted_list(players, player_points):\n",
    "    standings = {}\n",
    "    for i in players:\n",
    "        score = normalized_score(player_points[i])\n",
    "        standings[i] = score\n",
    "    sorted_standings = sorted(standings.items(), key=operator.itemgetter(1), reverse=True)\n",
    "\n",
    "    return sorted_standings\n",
    "        \n",
    "    \n",
    "\n",
    "match_data = [\n",
    "     [{\"player\": \"CAS\", \"score\": 2}, {\"player\": \"BAR\", \"score\": 1}],\n",
    "     [{\"player\": \"CAS\", \"score\": 2}, {\"player\": \"KUB\", \"score\": 1}],\n",
    "     [{\"player\": \"CAS\", \"score\": 2}, {\"player\": \"MAT\", \"score\": 1}],\n",
    "     [{\"player\": \"BAR\", \"score\": 2}, {\"player\": \"KUB\", \"score\": 1}],\n",
    "     [{\"player\": \"BAR\", \"score\": 2}, {\"player\": \"MAT\", \"score\": 1}],\n",
    "     [{\"player\": \"MAT\", \"score\": 2}, {\"player\": \"KUB\", \"score\": 1}] \n",
    "]\n",
    "\n",
    "for i in match_data:\n",
    "    if i[0][\"player\"] == \"CAS\":\n",
    "        print i[0][\"score\"]\n",
    "        \n",
    "players = extract_players(match_data)\n",
    "\n",
    "player_points = {}\n",
    "for i in players:\n",
    "    player_points[i] = {\"points\": 0, \"won\": 0, \"lost\": 0}\n",
    "    \n",
    "for i in players:\n",
    "    for j in match_data:\n",
    "        if j[0][\"player\"] == i:\n",
    "            player_points[i][\"won\"] +=j[0][\"score\"]\n",
    "            if j[0][\"score\"] == 2:\n",
    "                player_points[i][\"points\"] += 3\n",
    "            player_points[i][\"lost\"] +=j[1][\"score\"]\n",
    "        if j[1][\"player\"] == i:\n",
    "            player_points[i][\"won\"] +=j[1][\"score\"]\n",
    "            if j[1][\"score\"] == 2:\n",
    "                player_points[i][\"points\"] += 3\n",
    "            player_points[i][\"lost\"] +=j[0][\"score\"]\n",
    "                \n",
    "for i in players:\n",
    "    print player_points[i]\n",
    "    \n",
    "standings = get_sorted_list(players, player_points)\n",
    "\n",
    "for i in standings:\n",
    "    print i[]\n",
    "\n"
   ]
  },
  {
   "cell_type": "code",
   "execution_count": null,
   "metadata": {},
   "outputs": [],
   "source": []
  }
 ],
 "metadata": {
  "kernelspec": {
   "display_name": "Python 2",
   "language": "python",
   "name": "python2"
  },
  "language_info": {
   "codemirror_mode": {
    "name": "ipython",
    "version": 2
   },
   "file_extension": ".py",
   "mimetype": "text/x-python",
   "name": "python",
   "nbconvert_exporter": "python",
   "pygments_lexer": "ipython2",
   "version": "2.7.9"
  }
 },
 "nbformat": 4,
 "nbformat_minor": 2
}
