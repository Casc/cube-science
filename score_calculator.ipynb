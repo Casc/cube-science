{
 "cells": [
  {
   "cell_type": "code",
   "execution_count": 5,
   "metadata": {},
   "outputs": [
    {
     "name": "stdout",
     "output_type": "stream",
     "text": [
      "Python: 2.7.9\n",
      "numpy: 1.13.0\n",
      "pandas: 0.20.2\n",
      "matplotlib: 2.0.2\n",
      "Wojtek {'points': 9, 'won': 9, 'lost': 4}\n",
      "Casc {'points': 6, 'won': 6, 'lost': 5}\n",
      "Wielki {'points': 3, 'won': 6, 'lost': 8}\n",
      "Bartek {'points': 0, 'won': 5, 'lost': 9}\n"
     ]
    }
   ],
   "source": [
    "import platform\n",
    "print('Python: ' + platform.python_version())\n",
    "\n",
    "import numpy as np\n",
    "print('numpy: ' + np.__version__)\n",
    "\n",
    "import pandas as pd\n",
    "print('pandas: ' + pd.__version__)\n",
    "\n",
    "import matplotlib as plt\n",
    "print('matplotlib: ' + plt.__version__)\n",
    "\n",
    "import operator\n",
    "\n",
    "# input: a set of data with match results\n",
    "# output: a table with final standings\n",
    "\n",
    "def extract_players(my_matches):\n",
    "    players = []\n",
    "    for i in my_matches:\n",
    "        players.append(i[0][\"player\"])\n",
    "        players.append(i[1][\"player\"])\n",
    "    return list(set(players))\n",
    "\n",
    "def normalized_score(player_score):\n",
    "    deals = player_score[\"won\"] + player_score[\"lost\"]\n",
    "    win_rate =(player_score[\"won\"]+0.0)/deals\n",
    "    return player_score[\"points\"]*100 + round(win_rate *100, 0)\n",
    "\n",
    "def get_sorted_list(players, player_points):\n",
    "    standings = {}\n",
    "    for i in players:\n",
    "        score = normalized_score(player_points[i])\n",
    "        standings[i] = score\n",
    "    sorted_standings = sorted(standings.items(), key=operator.itemgetter(1), reverse=True)\n",
    "\n",
    "    return sorted_standings\n",
    "\n",
    "# Loading matches from .json file\n",
    "\n",
    "def loadMatches(filename):\n",
    "    matches = pd.read_json('data/matches/'+filename)\n",
    "    match_data = []\n",
    "    for i in matches[\"matches\"]: \n",
    "        record = []\n",
    "        record.append({\"player\": i[0][\"player\"], \"score\": i[0][\"score\"]})\n",
    "        record.append({\"player\": i[1][\"player\"], \"score\": i[1][\"score\"]})\n",
    "        match_data.append(record)\n",
    "    return match_data\n",
    "\n",
    "# Calculates score for given set of matches\n",
    "\n",
    "def calculateScores(match_data):\n",
    "    players = extract_players(match_data)\n",
    "\n",
    "    player_points = {}\n",
    "    for i in players:\n",
    "        player_points[i] = {\"points\": 0, \"won\": 0, \"lost\": 0}\n",
    "\n",
    "    for i in players:\n",
    "        for j in match_data:\n",
    "            if j[0][\"player\"] == i:\n",
    "                player_points[i][\"won\"] +=j[0][\"score\"]\n",
    "                if j[0][\"score\"] > j[1][\"score\"]:\n",
    "                    player_points[i][\"points\"] += 3\n",
    "                player_points[i][\"lost\"] +=j[1][\"score\"]\n",
    "            if j[1][\"player\"] == i:\n",
    "                player_points[i][\"won\"] +=j[1][\"score\"]\n",
    "                if j[1][\"score\"] > j[0][\"score\"]:\n",
    "                    player_points[i][\"points\"] += 3\n",
    "                player_points[i][\"lost\"] +=j[0][\"score\"]\n",
    "    \n",
    "    standings = get_sorted_list(players, player_points)\n",
    "\n",
    "    for i in standings:\n",
    "        print i[0], player_points[i[0]]\n",
    "        \n",
    "new_data = loadMatches('matches_17_7.json')\n",
    "\n",
    "calculateScores(new_data)\n",
    "\n",
    "# Example input below\n",
    "\n",
    "match_data = [\n",
    "     [{\"player\": \"CAS\", \"score\": 2}, {\"player\": \"BAR\", \"score\": 1}],\n",
    "     [{\"player\": \"CAS\", \"score\": 2}, {\"player\": \"KUB\", \"score\": 1}],\n",
    "     [{\"player\": \"CAS\", \"score\": 2}, {\"player\": \"MAT\", \"score\": 1}],\n",
    "     [{\"player\": \"BAR\", \"score\": 2}, {\"player\": \"KUB\", \"score\": 1}],\n",
    "     [{\"player\": \"BAR\", \"score\": 2}, {\"player\": \"MAT\", \"score\": 1}],\n",
    "     [{\"player\": \"MAT\", \"score\": 2}, {\"player\": \"KUB\", \"score\": 1}] \n",
    "]\n",
    "\n",
    "# calculateScores(match_data)"
   ]
  },
  {
   "cell_type": "code",
   "execution_count": 36,
   "metadata": {},
   "outputs": [
    {
     "name": "stdout",
     "output_type": "stream",
     "text": [
      "Wojtek {'points': 9, 'won': 9, 'lost': 4}\n",
      "Casc {'points': 6, 'won': 6, 'lost': 5}\n",
      "Wielki {'points': 3, 'won': 6, 'lost': 8}\n",
      "Bartek {'points': 0, 'won': 5, 'lost': 9}\n"
     ]
    }
   ],
   "source": []
  }
 ],
 "metadata": {
  "kernelspec": {
   "display_name": "Python 2",
   "language": "python",
   "name": "python2"
  },
  "language_info": {
   "codemirror_mode": {
    "name": "ipython",
    "version": 2
   },
   "file_extension": ".py",
   "mimetype": "text/x-python",
   "name": "python",
   "nbconvert_exporter": "python",
   "pygments_lexer": "ipython2",
   "version": "2.7.9"
  }
 },
 "nbformat": 4,
 "nbformat_minor": 2
}
